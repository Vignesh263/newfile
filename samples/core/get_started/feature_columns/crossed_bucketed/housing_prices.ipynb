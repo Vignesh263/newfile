{
 "cells": [
  {
   "cell_type": "markdown",
   "metadata": {},
   "source": [
    "# Overview"
   ]
  },
  {
   "cell_type": "markdown",
   "metadata": {},
   "source": [
    "This example demonstrates the use `tf.feature_column.crossed_column` on some simulated Atlanta housing price data. \n",
    "This spatial data is used primarily so the results can be easily visualized. \n",
    "\n",
    "These functions are designed primarily for categorical data, not to build interpolation tables. \n",
    "\n",
    "If you actually want to build smart interpolation tables in TensorFlow you may want to consider [TensorFlow Lattice](https://research.googleblog.com/2017/10/tensorflow-lattice-flexibility.html)."
   ]
  },
  {
   "cell_type": "markdown",
   "metadata": {
    "colab_type": "text",
    "id": "yEHBFimYk-Mu"
   },
   "source": [
    "# Imports"
   ]
  },
  {
   "cell_type": "code",
   "execution_count": null,
   "metadata": {},
   "outputs": [],
   "source": [
    "# Builtin.\n",
    "import os\n",
    "import subprocess\n",
    "import tempfile"
   ]
  },
  {
   "cell_type": "code",
   "execution_count": null,
   "metadata": {
    "colab": {
     "autoexec": {
      "startup": false,
      "wait_interval": 0
     }
    },
    "colab_type": "code",
    "id": "DiAklWTFk-My"
   },
   "outputs": [],
   "source": [
    "# Third Party\n",
    "import tensorflow as tf\n",
    "import numpy as np\n",
    "import matplotlib as mpl\n",
    "import matplotlib.pyplot as plt"
   ]
  },
  {
   "cell_type": "code",
   "execution_count": null,
   "metadata": {},
   "outputs": [],
   "source": [
    "#Local\n",
    "import synthetic_data"
   ]
  },
  {
   "cell_type": "code",
   "execution_count": null,
   "metadata": {
    "colab": {
     "autoexec": {
      "startup": false,
      "wait_interval": 0
     }
    },
    "colab_type": "code",
    "id": "fHqxuCUu8Bvm"
   },
   "outputs": [],
   "source": [
    "assert tf.VERSION.split('.') >= ['1','4']"
   ]
  },
  {
   "cell_type": "code",
   "execution_count": null,
   "metadata": {},
   "outputs": [],
   "source": [
    "tf.logging.set_verbosity(tf.logging.INFO)"
   ]
  },
  {
   "cell_type": "code",
   "execution_count": null,
   "metadata": {},
   "outputs": [],
   "source": [
    "%matplotlib inline\n",
    "mpl.rcParams['figure.figsize'] = 12, 6\n",
    "mpl.rcParams['image.cmap'] = 'viridis'"
   ]
  },
  {
   "cell_type": "code",
   "execution_count": null,
   "metadata": {
    "colab": {
     "autoexec": {
      "startup": false,
      "wait_interval": 0
     }
    },
    "colab_type": "code",
    "id": "Oj4Jv4Pik-M1"
   },
   "outputs": [],
   "source": [
    "logdir = tempfile.mkdtemp()"
   ]
  },
  {
   "cell_type": "code",
   "execution_count": null,
   "metadata": {
    "colab": {
     "autoexec": {
      "startup": false,
      "wait_interval": 0
     },
     "output_extras": [
      {}
     ]
    },
    "colab_type": "code",
    "id": "cTrSkk1zmvO0",
    "outputId": "41532b3b-2bf8-4abb-bc46-a92c76fe70f8"
   },
   "outputs": [],
   "source": [
    "logdir"
   ]
  },
  {
   "cell_type": "markdown",
   "metadata": {
    "colab_type": "text",
    "id": "WFYz5eg1k-M7"
   },
   "source": [
    "# Build Synthetic Data"
   ]
  },
  {
   "cell_type": "code",
   "execution_count": null,
   "metadata": {
    "colab": {
     "autoexec": {
      "startup": false,
      "wait_interval": 0
     }
    },
    "colab_type": "code",
    "id": "F3ouYc9N9zW3"
   },
   "outputs": [],
   "source": [
    "# Define the grid\n",
    "resolution = 100\n",
    "atlanta = synthetic_data.Grid(\n",
    "    latitude=synthetic_data.Linspace(33.641336, 33.887157, resolution),\n",
    "    longitude=synthetic_data.Linspace(-84.558798, -84.287259, resolution),\n",
    ")"
   ]
  },
  {
   "cell_type": "code",
   "execution_count": null,
   "metadata": {
    "collapsed": true
   },
   "outputs": [],
   "source": [
    "# This blobs function expects inputs in `[0,1]`\n",
    "_price_fun = synthetic_data.Blobs(20)\n",
    "\n",
    "# Add a wrapper that normalizes inputs from the `atlanta` grid to `[0,1]`\n",
    "def atlanta_price_fn(latitude, longitude):\n",
    "  latitude_norm, longitude_norm = atlanta.normalize(latitude, longitude)\n",
    "    \n",
    "  return _price_fun(x=longitude_norm, y=latitude_norm)"
   ]
  },
  {
   "cell_type": "code",
   "execution_count": null,
   "metadata": {
    "colab": {
     "autoexec": {
      "startup": false,
      "wait_interval": 0
     },
     "output_extras": [
      {}
     ]
    },
    "colab_type": "code",
    "collapsed": true,
    "id": "0Y5fSCpWk-NI",
    "outputId": "35737491-93bd-4911-cb6e-8163849983a3"
   },
   "outputs": [],
   "source": [
    "# Evaluate the price at each center-point\n",
    "latitude_centers, longitude_centers = atlanta.center_mesh()\n",
    "actual_price_grid = atlanta_price_fn(latitude_centers, longitude_centers)"
   ]
  },
  {
   "cell_type": "code",
   "execution_count": null,
   "metadata": {
    "colab": {
     "autoexec": {
      "startup": false,
      "wait_interval": 0
     }
    },
    "colab_type": "code",
    "id": "wN2wMUOck-NK"
   },
   "outputs": [],
   "source": [
    "plotter = synthetic_data.GridPlotter(atlanta, vmin=actual_price_grid.min(), vmax=actual_price_grid.max())"
   ]
  },
  {
   "cell_type": "code",
   "execution_count": null,
   "metadata": {
    "colab": {
     "autoexec": {
      "startup": false,
      "wait_interval": 0
     },
     "base_uri": "https://localhost:8080/",
     "height": 592,
     "output_extras": [
      {}
     ]
    },
    "colab_type": "code",
    "executionInfo": {
     "elapsed": 678,
     "status": "ok",
     "timestamp": 1508962293265,
     "user": {
      "displayName": "Mark Daoust",
      "photoUrl": "//lh5.googleusercontent.com/-2bdrhkqhwhc/AAAAAAAAAAI/AAAAAAAAAYY/WEdKp4OXSFY/s50-c-k-no/photo.jpg",
      "userId": "106546680081284977106"
     },
     "user_tz": 240
    },
    "id": "FkHXxJGuAsC1",
    "outputId": "40bf2c0f-51b0-4026-a275-c3669e5366cc"
   },
   "outputs": [],
   "source": [
    "plotter(actual_price_grid)"
   ]
  },
  {
   "cell_type": "markdown",
   "metadata": {
    "colab_type": "text",
    "id": "miDtqLRek-NM"
   },
   "source": [
    "# Build Datasets"
   ]
  },
  {
   "cell_type": "code",
   "execution_count": null,
   "metadata": {},
   "outputs": [],
   "source": [
    "def make_dataset(latitude, longitude, labels):\n",
    "    assert latitude.shape == longitude.shape == labels.shape\n",
    "\n",
    "    features = {'latitude': latitude.flatten(),\n",
    "                'longitude': longitude.flatten()}\n",
    "    labels=labels.flatten()\n",
    "\n",
    "    return tf.data.Dataset.from_tensor_slices((features, labels))"
   ]
  },
  {
   "cell_type": "code",
   "execution_count": null,
   "metadata": {
    "colab": {
     "autoexec": {
      "startup": false,
      "wait_interval": 0
     }
    },
    "colab_type": "code",
    "id": "zqBPKjBvk-NM"
   },
   "outputs": [],
   "source": [
    "# For the test data we will use the actual price grid.\n",
    "test_ds = make_dataset(latitude_grid, longitude_grid, actual_price_grid)\n",
    "test_ds = test_ds.cache().batch(512).prefetch(1)\n",
    "\n",
    "# For training data we will use a set of random points.\n",
    "train_latitude, train_longitude = atlanta.denormalize(np.random.rand(50000),np.random.rand(50000))\n",
    "train_price = atlanta_price_fn(train_latitude, train_longitude)\n",
    "\n",
    "train_ds = make_dataset(train_latitude, train_longitude, train_price)\n",
    "train_ds = train_ds.cache().repeat().shuffle(100000).batch(512).prefetch(1)\n",
    "\n",
    "# A shortcut to build an `input_fn` from a `Dataset`\n",
    "def dataset_input_fn(ds):\n",
    "    return lambda : ds.make_one_shot_iterator().get_next()\n"
   ]
  },
  {
   "cell_type": "markdown",
   "metadata": {
    "colab_type": "text",
    "id": "i-ToQzSqk-NO"
   },
   "source": [
    "# Generate a plot from an Estimator"
   ]
  },
  {
   "cell_type": "code",
   "execution_count": null,
   "metadata": {
    "colab": {
     "autoexec": {
      "startup": false,
      "wait_interval": 0
     }
    },
    "colab_type": "code",
    "id": "N9NmQLUOk-NP"
   },
   "outputs": [],
   "source": [
    "def plot_est(est, ds = test_ds):\n",
    "    # Create two plot axes\n",
    "    actual, predicted = plt.subplot(1,2,1), plt.subplot(1,2,2)\n",
    "\n",
    "    # Plot the actual price.\n",
    "    plt.sca(actual)\n",
    "    plotter(actual_price_grid)\n",
    "    \n",
    "    # Generate predictions over the grid from the estimator.\n",
    "    pred =  est.predict(dataset_input_fn(ds))\n",
    "    # Convert them to a numpy array.\n",
    "    pred = np.fromiter((item['predictions'] for item in pred), np.float32)\n",
    "    # Plot the predictions on the secodn axis.\n",
    "    plt.sca(predicted)\n",
    "    plotter(pred.reshape(resolution, resolution))"
   ]
  },
  {
   "cell_type": "markdown",
   "metadata": {
    "colab_type": "text",
    "id": "gfgngu0lk-NQ"
   },
   "source": [
    "# Using `numeric_column` with DNNRegressor\n",
    "In this case the data has spatial relationships that the `DNNRegressor` can exploit to make good predictions. Pure categorical data doesn't have these relationships. Embeddings are a way your model can _learn_ spatial relationships."
   ]
  },
  {
   "cell_type": "code",
   "execution_count": null,
   "metadata": {
    "colab": {
     "autoexec": {
      "startup": false,
      "wait_interval": 0
     },
     "base_uri": "https://localhost:8080/",
     "height": 2010,
     "output_extras": [
      {},
      {}
     ]
    },
    "colab_type": "code",
    "executionInfo": {
     "elapsed": 8234,
     "status": "ok",
     "timestamp": 1508962479411,
     "user": {
      "displayName": "Mark Daoust",
      "photoUrl": "//lh5.googleusercontent.com/-2bdrhkqhwhc/AAAAAAAAAAI/AAAAAAAAAYY/WEdKp4OXSFY/s50-c-k-no/photo.jpg",
      "userId": "106546680081284977106"
     },
     "user_tz": 240
    },
    "id": "On-_j4Jtk-NR",
    "outputId": "1c18ba56-7246-4096-c32d-822c2fe3dd36"
   },
   "outputs": [],
   "source": [
    "# Use `normalizer_fn` so that the model only sees values in [0, 1]\n",
    "fc = [tf.feature_column.numeric_column('latitude', normalizer_fn = atlanta.latitude.normalize), \n",
    "      tf.feature_column.numeric_column('longitude', normalizer_fn = atlanta.longitude.normalize)]\n",
    "\n",
    "# Build and train the Estimator\n",
    "est = tf.estimator.DNNRegressor(\n",
    "    hidden_units=[100,100], \n",
    "    feature_columns=fc, \n",
    "    model_dir = os.path.join(logdir,'DNN'))\n",
    "\n",
    "est.train(dataset_input_fn(train_ds), steps = 5000)\n",
    "est.evaluate(dataset_input_fn(test_ds))"
   ]
  },
  {
   "cell_type": "code",
   "execution_count": null,
   "metadata": {
    "colab": {
     "autoexec": {
      "startup": false,
      "wait_interval": 0
     },
     "base_uri": "https://localhost:8080/",
     "height": 388,
     "output_extras": [
      {},
      {}
     ]
    },
    "colab_type": "code",
    "executionInfo": {
     "elapsed": 1002,
     "status": "ok",
     "timestamp": 1508962552800,
     "user": {
      "displayName": "Mark Daoust",
      "photoUrl": "//lh5.googleusercontent.com/-2bdrhkqhwhc/AAAAAAAAAAI/AAAAAAAAAYY/WEdKp4OXSFY/s50-c-k-no/photo.jpg",
      "userId": "106546680081284977106"
     },
     "user_tz": 240
    },
    "id": "WTcIX78Tk-NV",
    "outputId": "8d08be57-7c37-4268-e38a-9675978567ff"
   },
   "outputs": [],
   "source": [
    "plot_est(est)"
   ]
  },
  {
   "cell_type": "markdown",
   "metadata": {
    "colab_type": "text",
    "id": "WIlTd5VEk-NZ"
   },
   "source": [
    "# Using `bucketized_column`\n",
    "`bucketized_column` on it's own defines a seperable function, as the sum of marginals over the two axes."
   ]
  },
  {
   "cell_type": "code",
   "execution_count": null,
   "metadata": {
    "colab": {
     "autoexec": {
      "startup": false,
      "wait_interval": 0
     },
     "base_uri": "https://localhost:8080/",
     "height": 2010,
     "output_extras": [
      {},
      {}
     ]
    },
    "colab_type": "code",
    "executionInfo": {
     "elapsed": 9805,
     "status": "ok",
     "timestamp": 1508962565572,
     "user": {
      "displayName": "Mark Daoust",
      "photoUrl": "//lh5.googleusercontent.com/-2bdrhkqhwhc/AAAAAAAAAAI/AAAAAAAAAYY/WEdKp4OXSFY/s50-c-k-no/photo.jpg",
      "userId": "106546680081284977106"
     },
     "user_tz": 240
    },
    "id": "NdKt4g2Kk-NZ",
    "outputId": "a72e8a55-0239-4b42-e66b-a57ba79fb47b"
   },
   "outputs": [],
   "source": [
    "# Bucketize the latitude and longitude usig the `edges`\n",
    "latitude_bucket_fc = tf.feature_column.bucketized_column(\n",
    "    tf.feature_column.numeric_column('latitude'), \n",
    "    list(atlanta.latitude.edges))\n",
    "\n",
    "longitude_bucket_fc = tf.feature_column.bucketized_column(\n",
    "    tf.feature_column.numeric_column('longitude'),\n",
    "    list(atlanta.longitude.edges))\n",
    "\n",
    "fc = [\n",
    "    latitude_bucket_fc,\n",
    "    longitude_bucket_fc]\n",
    "\n",
    "# Build and train the Estimator.\n",
    "est = tf.estimator.LinearRegressor(fc, model_dir = os.path.join(logdir,'separable'))\n",
    "est.train(dataset_input_fn(train_ds), steps = 5000)\n",
    "est.evaluate(dataset_input_fn(test_ds))"
   ]
  },
  {
   "cell_type": "code",
   "execution_count": null,
   "metadata": {
    "colab": {
     "autoexec": {
      "startup": false,
      "wait_interval": 0
     },
     "base_uri": "https://localhost:8080/",
     "height": 388,
     "output_extras": [
      {},
      {}
     ]
    },
    "colab_type": "code",
    "executionInfo": {
     "elapsed": 1152,
     "status": "ok",
     "timestamp": 1508962568631,
     "user": {
      "displayName": "Mark Daoust",
      "photoUrl": "//lh5.googleusercontent.com/-2bdrhkqhwhc/AAAAAAAAAAI/AAAAAAAAAYY/WEdKp4OXSFY/s50-c-k-no/photo.jpg",
      "userId": "106546680081284977106"
     },
     "user_tz": 240
    },
    "id": "j4lhsk5rk-Nc",
    "outputId": "f12b5ba5-1d28-46b2-b1d6-322a60ba40d9"
   },
   "outputs": [],
   "source": [
    "plot_est(est)"
   ]
  },
  {
   "cell_type": "markdown",
   "metadata": {
    "colab_type": "text",
    "id": "G-QLbA0hKBbY"
   },
   "source": [
    "# Using `crossed_column` on its own.\n",
    "Using `crossed_column` defines a joint function over the two axes, with some random weight sharing caused by the fact that `crossed_columns` use hashing, like `categorical_column_with_hash_bucket`.\n",
    "\n",
    "The single-cell \"holes\" in the figure are caused by cells which do not contain examples."
   ]
  },
  {
   "cell_type": "code",
   "execution_count": null,
   "metadata": {
    "colab": {
     "autoexec": {
      "startup": false,
      "wait_interval": 0
     },
     "base_uri": "https://localhost:8080/",
     "height": 2010,
     "output_extras": [
      {},
      {}
     ]
    },
    "colab_type": "code",
    "executionInfo": {
     "elapsed": 11707,
     "status": "ok",
     "timestamp": 1508962619513,
     "user": {
      "displayName": "Mark Daoust",
      "photoUrl": "//lh5.googleusercontent.com/-2bdrhkqhwhc/AAAAAAAAAAI/AAAAAAAAAYY/WEdKp4OXSFY/s50-c-k-no/photo.jpg",
      "userId": "106546680081284977106"
     },
     "user_tz": 240
    },
    "id": "JoIXtYykKJei",
    "outputId": "08e45310-f006-454a-8bb4-4f14466c5013"
   },
   "outputs": [],
   "source": [
    "# Cross the bucketized columns, using 5000 hash bins (for an average weight sharing of 2).\n",
    "crossed_lat_lon_fc = tf.feature_column.crossed_column(\n",
    "    [latitude_bucket_fc, longitude_bucket_fc], int(5e3))\n",
    "\n",
    "fc = [crossed_lat_lon_fc]\n",
    "\n",
    "# Build and train the Estimator.\n",
    "est = tf.estimator.LinearRegressor(fc, model_dir=os.path.join(logdir, 'crossed'))\n",
    "\n",
    "est.train(dataset_input_fn(train_ds), steps = 5000)\n",
    "est.evaluate(dataset_input_fn(test_ds))"
   ]
  },
  {
   "cell_type": "code",
   "execution_count": null,
   "metadata": {
    "colab": {
     "autoexec": {
      "startup": false,
      "wait_interval": 0
     },
     "base_uri": "https://localhost:8080/",
     "height": 388,
     "output_extras": [
      {},
      {}
     ]
    },
    "colab_type": "code",
    "executionInfo": {
     "elapsed": 1112,
     "status": "ok",
     "timestamp": 1508962600110,
     "user": {
      "displayName": "Mark Daoust",
      "photoUrl": "//lh5.googleusercontent.com/-2bdrhkqhwhc/AAAAAAAAAAI/AAAAAAAAAYY/WEdKp4OXSFY/s50-c-k-no/photo.jpg",
      "userId": "106546680081284977106"
     },
     "user_tz": 240
    },
    "id": "R-itu9itLe0K",
    "outputId": "449a6d84-c6f5-4582-f8e3-0f007ae68e8a",
    "scrolled": false
   },
   "outputs": [],
   "source": [
    "plot_est(est)"
   ]
  },
  {
   "cell_type": "markdown",
   "metadata": {
    "colab_type": "text",
    "id": "KHJ_KsRUk-Nj"
   },
   "source": [
    "# Using raw categories with `crossed_column` \n",
    "The model generalizes better if it also has access to the marginal categories, outside of the `crossed_column`. In this case the marginal columns learn averages, similar to when se only used the marginals (`bucketed_column`). While the `crossed_column` learns how individual cells deviate from those averages. This also mitigates hash collisions, as the model has access to other features it can use to distinguish between examples that colide."
   ]
  },
  {
   "cell_type": "code",
   "execution_count": null,
   "metadata": {
    "colab": {
     "autoexec": {
      "startup": false,
      "wait_interval": 0
     },
     "base_uri": "https://localhost:8080/",
     "height": 2010,
     "output_extras": [
      {},
      {}
     ]
    },
    "colab_type": "code",
    "executionInfo": {
     "elapsed": 13233,
     "status": "ok",
     "timestamp": 1508963622115,
     "user": {
      "displayName": "Mark Daoust",
      "photoUrl": "//lh5.googleusercontent.com/-2bdrhkqhwhc/AAAAAAAAAAI/AAAAAAAAAYY/WEdKp4OXSFY/s50-c-k-no/photo.jpg",
      "userId": "106546680081284977106"
     },
     "user_tz": 240
    },
    "id": "ukHo6NrTk-Nk",
    "outputId": "12fba55e-c496-4007-b7b7-11b1aad38ba8"
   },
   "outputs": [],
   "source": [
    "fc = [\n",
    "    latitude_bucket_fc,\n",
    "    longitude_bucket_fc,\n",
    "    crossed_lat_lon_fc]\n",
    "\n",
    "# Build and train the Estimator.\n",
    "est = tf.estimator.LinearRegressor(fc, model_dir=os.path.join(logdir, 'both'))\n",
    "est.train(dataset_input_fn(train_ds), steps = 5000)\n",
    "est.evaluate(dataset_input_fn(test_ds))"
   ]
  },
  {
   "cell_type": "code",
   "execution_count": null,
   "metadata": {
    "colab": {
     "autoexec": {
      "startup": false,
      "wait_interval": 0
     },
     "base_uri": "https://localhost:8080/",
     "height": 388,
     "output_extras": [
      {},
      {}
     ]
    },
    "colab_type": "code",
    "executionInfo": {
     "elapsed": 1307,
     "status": "ok",
     "timestamp": 1508963623450,
     "user": {
      "displayName": "Mark Daoust",
      "photoUrl": "//lh5.googleusercontent.com/-2bdrhkqhwhc/AAAAAAAAAAI/AAAAAAAAAYY/WEdKp4OXSFY/s50-c-k-no/photo.jpg",
      "userId": "106546680081284977106"
     },
     "user_tz": 240
    },
    "id": "QjOwalvDk-Nm",
    "outputId": "f0a520a1-8253-494e-f3c8-2e6df168100a",
    "scrolled": true
   },
   "outputs": [],
   "source": [
    "plot_est(est)"
   ]
  },
  {
   "cell_type": "markdown",
   "metadata": {
    "colab_type": "text",
    "id": "Mx66A5ETk-Ns"
   },
   "source": [
    "# Open TensorBoard"
   ]
  },
  {
   "cell_type": "markdown",
   "metadata": {
    "colab_type": "text",
    "id": "p3me9zPGk-M3"
   },
   "source": [
    "## Start TensorBoard\n",
    "The following command will kill all running TensorBoard processes, and start a new one monitoring to the above logdir. "
   ]
  },
  {
   "cell_type": "code",
   "execution_count": null,
   "metadata": {
    "scrolled": true
   },
   "outputs": [],
   "source": [
    "%env LOGDIR={logdir}"
   ]
  },
  {
   "cell_type": "code",
   "execution_count": null,
   "metadata": {},
   "outputs": [],
   "source": [
    "%%bash --bg\n",
    "pkill -f tensorboard\n",
    "tensorboard --logdir $LOGDIR"
   ]
  },
  {
   "cell_type": "code",
   "execution_count": null,
   "metadata": {
    "colab": {
     "autoexec": {
      "startup": false,
      "wait_interval": 0
     },
     "base_uri": "https://localhost:8080/",
     "height": 820,
     "output_extras": [
      {
       "item_id": 1
      }
     ]
    },
    "colab_type": "code",
    "executionInfo": {
     "elapsed": 478,
     "status": "ok",
     "timestamp": 1508986589529,
     "user": {
      "displayName": "Mark Daoust",
      "photoUrl": "//lh5.googleusercontent.com/-2bdrhkqhwhc/AAAAAAAAAAI/AAAAAAAAAYY/WEdKp4OXSFY/s50-c-k-no/photo.jpg",
      "userId": "106546680081284977106"
     },
     "user_tz": 240
    },
    "id": "fESYrJamm_Z5",
    "outputId": "d982a677-a217-491b-ef85-93f932e6afc5"
   },
   "outputs": [],
   "source": [
    "%%html\n",
    "<iframe width=\"900\" height=\"800\" src=\"http://0.0.0.0:6006#scalars&_smoothingWeight=0.85\" frameborder=\"0\"></iframe>"
   ]
  },
  {
   "cell_type": "code",
   "execution_count": null,
   "metadata": {
    "colab": {
     "autoexec": {
      "startup": false,
      "wait_interval": 0
     }
    },
    "colab_type": "code",
    "id": "_YHrJneHnA9K"
   },
   "outputs": [],
   "source": []
  }
 ],
 "metadata": {
  "colab": {
   "collapsed_sections": [],
   "default_view": {},
   "name": "Housing Prices (1).ipynb",
   "provenance": [],
   "version": "0.3.2",
   "views": {}
  },
  "kernelspec": {
   "display_name": "Python 2",
   "language": "python",
   "name": "python2"
  },
  "language_info": {
   "codemirror_mode": {
    "name": "ipython",
    "version": 2
   },
   "file_extension": ".py",
   "mimetype": "text/x-python",
   "name": "python",
   "nbconvert_exporter": "python",
   "pygments_lexer": "ipython2",
   "version": "2.7.6"
  }
 },
 "nbformat": 4,
 "nbformat_minor": 1
}
