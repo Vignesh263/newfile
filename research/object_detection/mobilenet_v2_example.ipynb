{
 "cells": [
  {
   "cell_type": "markdown",
   "metadata": {
    "colab_type": "text",
    "id": "T_cETKXHDTXu"
   },
   "source": [
    "# Prerequisites (clone tensorflow_models)"
   ]
  },
  {
   "cell_type": "code",
   "execution_count": null,
   "metadata": {
    "colab": {
     "base_uri": "https://localhost:8080/",
     "height": 121
    },
    "colab_type": "code",
    "id": "zo5GyseklSVH",
    "outputId": "195816ba-c710-4484-d465-705383706d55"
   },
   "outputs": [],
   "source": [
    "!git clone -q https://github.com/rok/models\n",
    "!cd models && git checkout mobilenet_v2_tpu_with_dist_strat_and_keras\n",
    "\n",
    "!pip install -q tf-nightly-2.0-preview"
   ]
  },
  {
   "cell_type": "code",
   "execution_count": null,
   "metadata": {
    "colab": {},
    "colab_type": "code",
    "id": "Yd3J7y8WgvGk"
   },
   "outputs": [],
   "source": [
    "import sys\n",
    "sys.path.append('/content/models/research/')"
   ]
  },
  {
   "cell_type": "markdown",
   "metadata": {
    "colab_type": "text",
    "id": "fxMe7_pkk_Vo"
   },
   "source": [
    "# Checkpoint based inference"
   ]
  },
  {
   "cell_type": "code",
   "execution_count": null,
   "metadata": {
    "colab": {},
    "colab_type": "code",
    "id": "zgg3rQe8gX8K"
   },
   "outputs": [],
   "source": [
    "import os\n",
    "import tensorflow as tf\n",
    "from object_detection.models.keras_models import mobilenet_v2\n",
    "from matplotlib import pyplot as plt\n",
    "import numpy as np"
   ]
  },
  {
   "cell_type": "code",
   "execution_count": null,
   "metadata": {
    "colab": {},
    "colab_type": "code",
    "id": "0EWMXeADc1Lp"
   },
   "outputs": [],
   "source": [
    "file = tf.keras.utils.get_file(\n",
    "    \"panda.jpg\",\n",
    "    \"https://upload.wikimedia.org/wikipedia/commons/f/fe/Giant_Panda_in_Beijing_Zoo_1.JPG\")\n",
    "img = tf.keras.preprocessing.image.load_img(file, target_size=[224, 224])\n",
    "plt.imshow(img)\n",
    "plt.axis('off')\n",
    "\n",
    "x = tf.keras.applications.mobilenet_v2.preprocess_input(np.array(img)[tf.newaxis,...])"
   ]
  },
  {
   "cell_type": "code",
   "execution_count": null,
   "metadata": {
    "colab": {
     "base_uri": "https://localhost:8080/",
     "height": 103
    },
    "colab_type": "code",
    "id": "UdMgJw96egUR",
    "outputId": "1a408e11-fd6d-408f-876d-4efa837e8ab0"
   },
   "outputs": [],
   "source": [
    "pretrained_model = tf.keras.applications.MobileNetV2()\n",
    "result = pretrained_model.predict(x)\n",
    "tf.keras.applications.mobilenet_v2.decode_predictions(result)"
   ]
  },
  {
   "cell_type": "markdown",
   "metadata": {
    "colab_type": "text",
    "id": "PlwvpK3ElBk6"
   },
   "source": [
    "# Frozen inference"
   ]
  },
  {
   "cell_type": "code",
   "execution_count": null,
   "metadata": {
    "colab": {},
    "colab_type": "code",
    "id": "Vwk_F--IhP7O"
   },
   "outputs": [],
   "source": [
    "tf.saved_model.save(pretrained_model, \"/tmp/mobilenet_v2/1/\")"
   ]
  },
  {
   "cell_type": "code",
   "execution_count": null,
   "metadata": {
    "colab": {
     "base_uri": "https://localhost:8080/",
     "height": 103
    },
    "colab_type": "code",
    "id": "ZueWAD78Yvw6",
    "outputId": "11d76922-0c31-4c4f-d8f1-43f3f8a9afae"
   },
   "outputs": [],
   "source": [
    "loaded = tf.saved_model.load(\"/tmp/mobilenet_v2/1/\")\n",
    "infer = loaded.signatures['serving_default']\n",
    "labeling = infer(tf.constant(x))['Logits']\n",
    "\n",
    "tf.keras.applications.mobilenet_v2.decode_predictions(labeling.numpy())"
   ]
  },
  {
   "cell_type": "markdown",
   "metadata": {
    "colab_type": "text",
    "id": "b5luo9sLoT7s"
   },
   "source": [
    "# TPU inference"
   ]
  },
  {
   "cell_type": "code",
   "execution_count": null,
   "metadata": {
    "colab": {
     "base_uri": "https://localhost:8080/",
     "height": 34
    },
    "colab_type": "code",
    "id": "KqcgH-Gjo91z",
    "outputId": "6781210a-03c8-4d9c-99bb-52fdcb645bba"
   },
   "outputs": [],
   "source": [
    "if 'COLAB_TPU_ADDR' not in os.environ:\n",
    "  print('ERROR: Not connected to a TPU runtime.')\n",
    "else:\n",
    "  tpu_address = 'grpc://' + os.environ['COLAB_TPU_ADDR']\n",
    "  print ('TPU address is', tpu_address)\n",
    "\n",
    "  tf.config.experimental_connect_to_host(tpu_address)\n",
    "\n",
    "\n",
    "resolver = tf.distribute.cluster_resolver.TPUClusterResolver(tpu_address)\n",
    "tf.tpu.experimental.initialize_tpu_system(resolver)\n",
    "tpu_strategy = tf.distribute.experimental.TPUStrategy(resolver)"
   ]
  },
  {
   "cell_type": "code",
   "execution_count": null,
   "metadata": {
    "colab": {},
    "colab_type": "code",
    "id": "i1s8yelLvmci"
   },
   "outputs": [],
   "source": [
    "# TPU models are not available in TF2 yet\n",
    "# model = tf.keras.applications.MobileNetV2()\n",
    "# tpu_model = tf.contrib.tpu.keras_to_tpu_model(model, strategy=tpu_strategy)"
   ]
  }
 ],
 "metadata": {
  "accelerator": "TPU",
  "colab": {
   "collapsed_sections": [],
   "name": "Copy of Mobilenet Example.ipynb",
   "provenance": [],
   "version": "0.3.2"
  },
  "kernelspec": {
   "display_name": "Python 3",
   "language": "python",
   "name": "python3"
  },
  "language_info": {
   "codemirror_mode": {
    "name": "ipython",
    "version": 3
   },
   "file_extension": ".py",
   "mimetype": "text/x-python",
   "name": "python",
   "nbconvert_exporter": "python",
   "pygments_lexer": "ipython3",
   "version": "3.6.7"
  }
 },
 "nbformat": 4,
 "nbformat_minor": 1
}
