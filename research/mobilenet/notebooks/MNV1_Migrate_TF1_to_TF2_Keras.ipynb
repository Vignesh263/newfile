{
 "cells": [
  {
   "cell_type": "markdown",
   "metadata": {},
   "source": [
    "# Load MobilenetV1 TF1 Checkpoint to TF2 Keras."
   ]
  },
  {
   "cell_type": "code",
   "execution_count": 1,
   "metadata": {},
   "outputs": [],
   "source": [
    "# Copyright 2020 The TensorFlow Authors. All Rights Reserved.\n",
    "#\n",
    "# Licensed under the Apache License, Version 2.0 (the \"License\");\n",
    "# you may not use this file except in compliance with the License.\n",
    "# You may obtain a copy of the License at\n",
    "#\n",
    "# http://www.apache.org/licenses/LICENSE-2.0\n",
    "#\n",
    "# Unless required by applicable law or agreed to in writing, software\n",
    "# distributed under the License is distributed on an \"AS IS\" BASIS,\n",
    "# WITHOUT WARRANTIES OR CONDITIONS OF ANY KIND, either express or implied.\n",
    "# See the License for the specific language governing permissions and\n",
    "# limitations under the License.\n",
    "# ============================================================================="
   ]
  },
  {
   "cell_type": "code",
   "execution_count": 14,
   "metadata": {},
   "outputs": [],
   "source": [
    "import os\n",
    "import pathlib\n",
    "import sys\n",
    "from typing import Text, List, Dict, Tuple, Callable\n",
    "\n",
    "import tensorflow as tf"
   ]
  },
  {
   "cell_type": "code",
   "execution_count": 3,
   "metadata": {},
   "outputs": [],
   "source": [
    "# Modify the PYTHONPATH\n",
    "root = os.path.abspath('../../../')\n",
    "sys.path.append(root)"
   ]
  },
  {
   "cell_type": "code",
   "execution_count": 4,
   "metadata": {},
   "outputs": [],
   "source": [
    "from research.mobilenet.configs import archs\n",
    "from research.mobilenet.mobilenet_v1 import mobilenet_v1\n",
    "from research.mobilenet.tf1_loader import v1_loader\n",
    "from research.mobilenet.mobilenet_trainer import _get_dataset_config, _get_metrics, get_dataset"
   ]
  },
  {
   "cell_type": "markdown",
   "metadata": {},
   "source": [
    "## Download Checkpiont"
   ]
  },
  {
   "cell_type": "code",
   "execution_count": 5,
   "metadata": {},
   "outputs": [
    {
     "name": "stdout",
     "output_type": "stream",
     "text": [
      "  % Total    % Received % Xferd  Average Speed   Time    Time     Time  Current\n",
      "                                 Dload  Upload   Total   Spent    Left  Speed\n",
      "100 89.9M  100 89.9M    0     0  2887k      0  0:00:31  0:00:31 --:--:-- 2509k0  0:00:25 2476k     0  0:00:31  0:00:20  0:00:11 3515k\n"
     ]
    }
   ],
   "source": [
    "## Download kfctl v0.7.0\n",
    "! curl -LO http://download.tensorflow.org/models/mobilenet_v1_2018_08_02/mobilenet_v1_1.0_224.tgz"
   ]
  },
  {
   "cell_type": "code",
   "execution_count": 6,
   "metadata": {},
   "outputs": [
    {
     "name": "stdout",
     "output_type": "stream",
     "text": [
      "x ./\n",
      "x ./mobilenet_v1_1.0_224.tflite\n",
      "x ./mobilenet_v1_1.0_224.ckpt.meta\n",
      "x ./mobilenet_v1_1.0_224.ckpt.index\n",
      "x ./mobilenet_v1_1.0_224.ckpt.data-00000-of-00001\n",
      "x ./mobilenet_v1_1.0_224_info.txt\n",
      "x ./mobilenet_v1_1.0_224_frozen.pb\n",
      "x ./mobilenet_v1_1.0_224_eval.pbtxt\n"
     ]
    }
   ],
   "source": [
    "## Unpack the tar ball\n",
    "! mkdir ./checkpoints\n",
    "! tar -xvf mobilenet_v1_1.0_224.tgz -C ./checkpoints"
   ]
  },
  {
   "cell_type": "code",
   "execution_count": 7,
   "metadata": {},
   "outputs": [],
   "source": [
    "source_checkpoint = './checkpoints/mobilenet_v1_1.0_224.ckpt'"
   ]
  },
  {
   "cell_type": "markdown",
   "metadata": {},
   "source": [
    "## Restore TF2 Keras Model from TF1 Checkpoint"
   ]
  },
  {
   "cell_type": "code",
   "execution_count": 10,
   "metadata": {},
   "outputs": [],
   "source": [
    "m_config = archs.MobileNetV1Config()\n",
    "d_config = _get_dataset_config().get(\"imagenette\")()\n",
    "\n",
    "# create a TF2 Keras model, and load weights from TF1 checkpoint\n",
    "keras_model = v1_loader.load_mobilenet_v1(\n",
    "    checkpoint_path=source_checkpoint,\n",
    "    config=m_config)\n",
    "\n",
    "# compile Keras model\n",
    "if d_config.one_hot:\n",
    "    loss_obj = tf.keras.losses.CategoricalCrossentropy()\n",
    "else:\n",
    "    loss_obj = tf.keras.losses.SparseCategoricalCrossentropy()\n",
    "\n",
    "keras_model.compile(\n",
    "    optimizer='rmsprop',\n",
    "    loss=loss_obj,\n",
    "    metrics=[_get_metrics(one_hot=d_config.one_hot)['acc']])"
   ]
  },
  {
   "cell_type": "code",
   "execution_count": 11,
   "metadata": {},
   "outputs": [
    {
     "name": "stdout",
     "output_type": "stream",
     "text": [
      "Model: \"MobileNetV1\"\n",
      "_________________________________________________________________\n",
      "Layer (type)                 Output Shape              Param #   \n",
      "=================================================================\n",
      "Input (InputLayer)           [(None, 224, 224, 3)]     0         \n",
      "_________________________________________________________________\n",
      "Conv2d_0_0 (Conv2D)          (None, 112, 112, 32)      864       \n",
      "_________________________________________________________________\n",
      "Conv2d_0_0/batch_norm (Batch (None, 112, 112, 32)      128       \n",
      "_________________________________________________________________\n",
      "Conv2d_0_0/relu6 (Activation (None, 112, 112, 32)      0         \n",
      "_________________________________________________________________\n",
      "Conv2d_1/depthwise (Depthwis (None, 112, 112, 32)      288       \n",
      "_________________________________________________________________\n",
      "Conv2d_1/depthwise/batch_nor (None, 112, 112, 32)      128       \n",
      "_________________________________________________________________\n",
      "Conv2d_1/depthwise/relu6 (Ac (None, 112, 112, 32)      0         \n",
      "_________________________________________________________________\n",
      "Conv2d_1/pointwise (Conv2D)  (None, 112, 112, 64)      2048      \n",
      "_________________________________________________________________\n",
      "Conv2d_1/pointwise/batch_nor (None, 112, 112, 64)      256       \n",
      "_________________________________________________________________\n",
      "Conv2d_1/pointwise/relu6 (Ac (None, 112, 112, 64)      0         \n",
      "_________________________________________________________________\n",
      "Conv2d_2/depthwise (Depthwis (None, 56, 56, 64)        576       \n",
      "_________________________________________________________________\n",
      "Conv2d_2/depthwise/batch_nor (None, 56, 56, 64)        256       \n",
      "_________________________________________________________________\n",
      "Conv2d_2/depthwise/relu6 (Ac (None, 56, 56, 64)        0         \n",
      "_________________________________________________________________\n",
      "Conv2d_2/pointwise (Conv2D)  (None, 56, 56, 128)       8192      \n",
      "_________________________________________________________________\n",
      "Conv2d_2/pointwise/batch_nor (None, 56, 56, 128)       512       \n",
      "_________________________________________________________________\n",
      "Conv2d_2/pointwise/relu6 (Ac (None, 56, 56, 128)       0         \n",
      "_________________________________________________________________\n",
      "Conv2d_3/depthwise (Depthwis (None, 56, 56, 128)       1152      \n",
      "_________________________________________________________________\n",
      "Conv2d_3/depthwise/batch_nor (None, 56, 56, 128)       512       \n",
      "_________________________________________________________________\n",
      "Conv2d_3/depthwise/relu6 (Ac (None, 56, 56, 128)       0         \n",
      "_________________________________________________________________\n",
      "Conv2d_3/pointwise (Conv2D)  (None, 56, 56, 128)       16384     \n",
      "_________________________________________________________________\n",
      "Conv2d_3/pointwise/batch_nor (None, 56, 56, 128)       512       \n",
      "_________________________________________________________________\n",
      "Conv2d_3/pointwise/relu6 (Ac (None, 56, 56, 128)       0         \n",
      "_________________________________________________________________\n",
      "Conv2d_4/depthwise (Depthwis (None, 28, 28, 128)       1152      \n",
      "_________________________________________________________________\n",
      "Conv2d_4/depthwise/batch_nor (None, 28, 28, 128)       512       \n",
      "_________________________________________________________________\n",
      "Conv2d_4/depthwise/relu6 (Ac (None, 28, 28, 128)       0         \n",
      "_________________________________________________________________\n",
      "Conv2d_4/pointwise (Conv2D)  (None, 28, 28, 256)       32768     \n",
      "_________________________________________________________________\n",
      "Conv2d_4/pointwise/batch_nor (None, 28, 28, 256)       1024      \n",
      "_________________________________________________________________\n",
      "Conv2d_4/pointwise/relu6 (Ac (None, 28, 28, 256)       0         \n",
      "_________________________________________________________________\n",
      "Conv2d_5/depthwise (Depthwis (None, 28, 28, 256)       2304      \n",
      "_________________________________________________________________\n",
      "Conv2d_5/depthwise/batch_nor (None, 28, 28, 256)       1024      \n",
      "_________________________________________________________________\n",
      "Conv2d_5/depthwise/relu6 (Ac (None, 28, 28, 256)       0         \n",
      "_________________________________________________________________\n",
      "Conv2d_5/pointwise (Conv2D)  (None, 28, 28, 256)       65536     \n",
      "_________________________________________________________________\n",
      "Conv2d_5/pointwise/batch_nor (None, 28, 28, 256)       1024      \n",
      "_________________________________________________________________\n",
      "Conv2d_5/pointwise/relu6 (Ac (None, 28, 28, 256)       0         \n",
      "_________________________________________________________________\n",
      "Conv2d_6/depthwise (Depthwis (None, 14, 14, 256)       2304      \n",
      "_________________________________________________________________\n",
      "Conv2d_6/depthwise/batch_nor (None, 14, 14, 256)       1024      \n",
      "_________________________________________________________________\n",
      "Conv2d_6/depthwise/relu6 (Ac (None, 14, 14, 256)       0         \n",
      "_________________________________________________________________\n",
      "Conv2d_6/pointwise (Conv2D)  (None, 14, 14, 512)       131072    \n",
      "_________________________________________________________________\n",
      "Conv2d_6/pointwise/batch_nor (None, 14, 14, 512)       2048      \n",
      "_________________________________________________________________\n",
      "Conv2d_6/pointwise/relu6 (Ac (None, 14, 14, 512)       0         \n",
      "_________________________________________________________________\n",
      "Conv2d_7/depthwise (Depthwis (None, 14, 14, 512)       4608      \n",
      "_________________________________________________________________\n",
      "Conv2d_7/depthwise/batch_nor (None, 14, 14, 512)       2048      \n",
      "_________________________________________________________________\n",
      "Conv2d_7/depthwise/relu6 (Ac (None, 14, 14, 512)       0         \n",
      "_________________________________________________________________\n",
      "Conv2d_7/pointwise (Conv2D)  (None, 14, 14, 512)       262144    \n",
      "_________________________________________________________________\n",
      "Conv2d_7/pointwise/batch_nor (None, 14, 14, 512)       2048      \n",
      "_________________________________________________________________\n",
      "Conv2d_7/pointwise/relu6 (Ac (None, 14, 14, 512)       0         \n",
      "_________________________________________________________________\n",
      "Conv2d_8/depthwise (Depthwis (None, 14, 14, 512)       4608      \n",
      "_________________________________________________________________\n",
      "Conv2d_8/depthwise/batch_nor (None, 14, 14, 512)       2048      \n",
      "_________________________________________________________________\n",
      "Conv2d_8/depthwise/relu6 (Ac (None, 14, 14, 512)       0         \n",
      "_________________________________________________________________\n",
      "Conv2d_8/pointwise (Conv2D)  (None, 14, 14, 512)       262144    \n",
      "_________________________________________________________________\n",
      "Conv2d_8/pointwise/batch_nor (None, 14, 14, 512)       2048      \n",
      "_________________________________________________________________\n",
      "Conv2d_8/pointwise/relu6 (Ac (None, 14, 14, 512)       0         \n",
      "_________________________________________________________________\n",
      "Conv2d_9/depthwise (Depthwis (None, 14, 14, 512)       4608      \n",
      "_________________________________________________________________\n",
      "Conv2d_9/depthwise/batch_nor (None, 14, 14, 512)       2048      \n",
      "_________________________________________________________________\n",
      "Conv2d_9/depthwise/relu6 (Ac (None, 14, 14, 512)       0         \n",
      "_________________________________________________________________\n",
      "Conv2d_9/pointwise (Conv2D)  (None, 14, 14, 512)       262144    \n",
      "_________________________________________________________________\n",
      "Conv2d_9/pointwise/batch_nor (None, 14, 14, 512)       2048      \n",
      "_________________________________________________________________\n",
      "Conv2d_9/pointwise/relu6 (Ac (None, 14, 14, 512)       0         \n",
      "_________________________________________________________________\n",
      "Conv2d_10/depthwise (Depthwi (None, 14, 14, 512)       4608      \n",
      "_________________________________________________________________\n",
      "Conv2d_10/depthwise/batch_no (None, 14, 14, 512)       2048      \n",
      "_________________________________________________________________\n",
      "Conv2d_10/depthwise/relu6 (A (None, 14, 14, 512)       0         \n",
      "_________________________________________________________________\n",
      "Conv2d_10/pointwise (Conv2D) (None, 14, 14, 512)       262144    \n",
      "_________________________________________________________________\n",
      "Conv2d_10/pointwise/batch_no (None, 14, 14, 512)       2048      \n",
      "_________________________________________________________________\n",
      "Conv2d_10/pointwise/relu6 (A (None, 14, 14, 512)       0         \n",
      "_________________________________________________________________\n",
      "Conv2d_11/depthwise (Depthwi (None, 14, 14, 512)       4608      \n",
      "_________________________________________________________________\n",
      "Conv2d_11/depthwise/batch_no (None, 14, 14, 512)       2048      \n",
      "_________________________________________________________________\n",
      "Conv2d_11/depthwise/relu6 (A (None, 14, 14, 512)       0         \n",
      "_________________________________________________________________\n",
      "Conv2d_11/pointwise (Conv2D) (None, 14, 14, 512)       262144    \n",
      "_________________________________________________________________\n",
      "Conv2d_11/pointwise/batch_no (None, 14, 14, 512)       2048      \n",
      "_________________________________________________________________\n",
      "Conv2d_11/pointwise/relu6 (A (None, 14, 14, 512)       0         \n",
      "_________________________________________________________________\n",
      "Conv2d_12/depthwise (Depthwi (None, 7, 7, 512)         4608      \n",
      "_________________________________________________________________\n",
      "Conv2d_12/depthwise/batch_no (None, 7, 7, 512)         2048      \n",
      "_________________________________________________________________\n",
      "Conv2d_12/depthwise/relu6 (A (None, 7, 7, 512)         0         \n",
      "_________________________________________________________________\n",
      "Conv2d_12/pointwise (Conv2D) (None, 7, 7, 1024)        524288    \n",
      "_________________________________________________________________\n",
      "Conv2d_12/pointwise/batch_no (None, 7, 7, 1024)        4096      \n",
      "_________________________________________________________________\n",
      "Conv2d_12/pointwise/relu6 (A (None, 7, 7, 1024)        0         \n",
      "_________________________________________________________________\n",
      "Conv2d_13/depthwise (Depthwi (None, 7, 7, 1024)        9216      \n",
      "_________________________________________________________________\n",
      "Conv2d_13/depthwise/batch_no (None, 7, 7, 1024)        4096      \n",
      "_________________________________________________________________\n",
      "Conv2d_13/depthwise/relu6 (A (None, 7, 7, 1024)        0         \n",
      "_________________________________________________________________\n",
      "Conv2d_13/pointwise (Conv2D) (None, 7, 7, 1024)        1048576   \n",
      "_________________________________________________________________\n",
      "Conv2d_13/pointwise/batch_no (None, 7, 7, 1024)        4096      \n",
      "_________________________________________________________________\n",
      "Conv2d_13/pointwise/relu6 (A (None, 7, 7, 1024)        0         \n",
      "_________________________________________________________________\n",
      "top/GlobalPool (GlobalAverag (None, 1024)              0         \n",
      "_________________________________________________________________\n",
      "top/Reshape (Reshape)        (None, 1, 1, 1024)        0         \n",
      "_________________________________________________________________\n",
      "top/Dropout (Dropout)        (None, 1, 1, 1024)        0         \n",
      "_________________________________________________________________\n",
      "top/Conv2d_1x1_output (Conv2 (None, 1, 1, 1001)        1026025   \n",
      "_________________________________________________________________\n",
      "top/SpatialSqueeze (Reshape) (None, 1001)              0         \n",
      "_________________________________________________________________\n",
      "top/Predictions (Activation) (None, 1001)              0         \n",
      "=================================================================\n",
      "Total params: 4,254,889\n",
      "Trainable params: 4,233,001\n",
      "Non-trainable params: 21,888\n",
      "_________________________________________________________________\n"
     ]
    }
   ],
   "source": [
    "keras_model.summary()"
   ]
  },
  {
   "cell_type": "markdown",
   "metadata": {},
   "source": [
    "## Save TF2 Compatible Checkpoint and Savedmodel"
   ]
  },
  {
   "cell_type": "code",
   "execution_count": 12,
   "metadata": {},
   "outputs": [
    {
     "data": {
      "text/plain": [
       "'./mobilenet_v1_ck/ckpt-1'"
      ]
     },
     "execution_count": 12,
     "metadata": {},
     "output_type": "execute_result"
    }
   ],
   "source": [
    "save_path = './mobilenet_v1_ck'\n",
    "\n",
    "checkpoint = tf.train.Checkpoint(model=keras_model)\n",
    "manager = tf.train.CheckpointManager(checkpoint,\n",
    "                                     directory=save_path,\n",
    "                                     max_to_keep=1)\n",
    "manager.save()"
   ]
  },
  {
   "cell_type": "code",
   "execution_count": 13,
   "metadata": {},
   "outputs": [
    {
     "name": "stdout",
     "output_type": "stream",
     "text": [
      "WARNING:tensorflow:From /Users/luoshixin/Develop/models-rp/venv/lib/python3.8/site-packages/tensorflow/python/ops/resource_variable_ops.py:1813: calling BaseResourceVariable.__init__ (from tensorflow.python.ops.resource_variable_ops) with constraint is deprecated and will be removed in a future version.\n",
      "Instructions for updating:\n",
      "If using Keras pass *_constraint arguments to layers.\n",
      "INFO:tensorflow:Assets written to: ./mobilenet_v1_ck/assets\n"
     ]
    }
   ],
   "source": [
    "# Save as savedmodel format\n",
    "keras_model.save(save_path, save_format='tf')"
   ]
  },
  {
   "cell_type": "markdown",
   "metadata": {},
   "source": [
    "## Run Evaluation"
   ]
  },
  {
   "cell_type": "code",
   "execution_count": 13,
   "metadata": {},
   "outputs": [],
   "source": [
    "# build evaluation dataset\n",
    "d_config.split = 'validation'\n",
    "d_config.batch_size = 128\n",
    "d_config.one_hot = False\n",
    "d_config.data_dir = '[data_dir]' # make sure you have downloaded the imagenet data in TFRecords format\n",
    "\n",
    "# the checkpoint is trained using slim\n",
    "eval_dataset = get_dataset(d_config, slim_preprocess=True)"
   ]
  },
  {
   "cell_type": "code",
   "execution_count": null,
   "metadata": {},
   "outputs": [],
   "source": [
    "# run evaluation\n",
    "eval_result = keras_model.evaluate(eval_dataset)"
   ]
  },
  {
   "cell_type": "markdown",
   "metadata": {},
   "source": [
    "## Test Prediction on imagenette"
   ]
  },
  {
   "cell_type": "code",
   "execution_count": 27,
   "metadata": {},
   "outputs": [],
   "source": [
    "d_config = _get_dataset_config().get(\"imagenette\")()\n",
    "d_config.split = 'validation'\n",
    "eval_dataset = get_dataset(d_config)\n",
    "for batch in eval_dataset.take(1):\n",
    "    data, label = batch[0], batch[1]"
   ]
  },
  {
   "cell_type": "code",
   "execution_count": 28,
   "metadata": {},
   "outputs": [
    {
     "data": {
      "text/plain": [
       "array([[1.9183963e-09, 4.1394728e-06, 3.9897436e-08, ..., 7.5235895e-10,\n",
       "        3.7643774e-06, 4.6054534e-09],\n",
       "       [5.5527597e-08, 1.3980379e-07, 1.3633577e-06, ..., 5.2619344e-09,\n",
       "        4.1898606e-06, 2.4916830e-05],\n",
       "       [2.8108006e-13, 1.0193365e-11, 1.5710981e-11, ..., 4.1460992e-13,\n",
       "        4.6441356e-10, 1.6905852e-10],\n",
       "       ...,\n",
       "       [3.1768695e-11, 6.0316262e-12, 8.5546084e-11, ..., 3.0574855e-11,\n",
       "        1.1098102e-09, 2.0510100e-09],\n",
       "       [4.1738550e-11, 5.0156116e-12, 1.9647657e-10, ..., 1.1356447e-11,\n",
       "        3.9844417e-09, 3.6098619e-08],\n",
       "       [2.0708221e-07, 9.9771933e-07, 6.3004092e-07, ..., 1.4773001e-07,\n",
       "        1.2141989e-05, 2.9931611e-05]], dtype=float32)"
      ]
     },
     "execution_count": 28,
     "metadata": {},
     "output_type": "execute_result"
    }
   ],
   "source": [
    "keras_model.predict(data)"
   ]
  },
  {
   "cell_type": "markdown",
   "metadata": {},
   "source": [
    "## Quantization"
   ]
  },
  {
   "cell_type": "code",
   "execution_count": 15,
   "metadata": {},
   "outputs": [],
   "source": [
    "saved_model_dir = save_path"
   ]
  },
  {
   "cell_type": "code",
   "execution_count": 16,
   "metadata": {},
   "outputs": [],
   "source": [
    "converter = tf.lite.TFLiteConverter.from_saved_model(saved_model_dir)\n",
    "tflite_model = converter.convert()"
   ]
  },
  {
   "cell_type": "markdown",
   "metadata": {},
   "source": [
    "Write it out to a tflite file:"
   ]
  },
  {
   "cell_type": "code",
   "execution_count": 17,
   "metadata": {},
   "outputs": [],
   "source": [
    "tflite_models_dir = pathlib.Path(\"./mobilenet_tflite_models/\")\n",
    "tflite_models_dir.mkdir(exist_ok=True, parents=True)"
   ]
  },
  {
   "cell_type": "code",
   "execution_count": 18,
   "metadata": {},
   "outputs": [
    {
     "data": {
      "text/plain": [
       "16930316"
      ]
     },
     "execution_count": 18,
     "metadata": {},
     "output_type": "execute_result"
    }
   ],
   "source": [
    "tflite_model_file = tflite_models_dir/\"mobilenet_model.tflite\"\n",
    "tflite_model_file.write_bytes(tflite_model)"
   ]
  },
  {
   "cell_type": "markdown",
   "metadata": {},
   "source": [
    "### To quantize the model on export:"
   ]
  },
  {
   "cell_type": "markdown",
   "metadata": {},
   "source": [
    "converts the model into a Tensorflow Lite flatbuffer with dynamic range quantization"
   ]
  },
  {
   "cell_type": "code",
   "execution_count": 19,
   "metadata": {},
   "outputs": [
    {
     "data": {
      "text/plain": [
       "4311616"
      ]
     },
     "execution_count": 19,
     "metadata": {},
     "output_type": "execute_result"
    }
   ],
   "source": [
    "converter.optimizations = [tf.lite.Optimize.DEFAULT]\n",
    "tflite_quant_model = converter.convert()\n",
    "\n",
    "tflite_model_quant_file = tflite_models_dir/\"mobilenet_model_quant.tflite\"\n",
    "tflite_model_quant_file.write_bytes(tflite_quant_model)"
   ]
  },
  {
   "cell_type": "markdown",
   "metadata": {},
   "source": [
    "converts the model into a Tensorflow Lite flatbuffer with float16 quantization"
   ]
  },
  {
   "cell_type": "code",
   "execution_count": 21,
   "metadata": {},
   "outputs": [
    {
     "data": {
      "text/plain": [
       "8510464"
      ]
     },
     "execution_count": 21,
     "metadata": {},
     "output_type": "execute_result"
    }
   ],
   "source": [
    "converter.optimizations = [tf.lite.Optimize.DEFAULT]\n",
    "converter.target_spec.supported_types = [tf.float16]\n",
    "\n",
    "tflite_fp16_model = converter.convert()\n",
    "tflite_model_fp16_file = tflite_models_dir/\"mobilenet_model_quant_f16.tflite\"\n",
    "tflite_model_fp16_file.write_bytes(tflite_fp16_model)"
   ]
  },
  {
   "cell_type": "markdown",
   "metadata": {},
   "source": [
    "converts the model into a Tensorflow Lite flatbuffer with integer quantization"
   ]
  },
  {
   "cell_type": "markdown",
   "metadata": {},
   "source": [
    "```python\n",
    "converter.optimizations = [tf.lite.Optimize.DEFAULT]\n",
    "\n",
    "# Now, in order to create quantized values with an accurate dynamic range of activations, \n",
    "# you need to provide a representative dataset.\n",
    "def representative_dataset_gen():\n",
    "  for _ in range(num_calibration_steps):\n",
    "    # Get sample input data as a numpy array in a method of your choosing.\n",
    "    yield [input]\n",
    "\n",
    "converter.representative_dataset = representative_dataset_gen\n",
    "converter.target_spec.supported_ops = [tf.lite.OpsSet.TFLITE_BUILTINS_INT8]\n",
    "converter.inference_input_type = tf.int8  # or tf.uint8\n",
    "converter.inference_output_type = tf.int8  # or tf.uint8\n",
    "tflite_quant_model = converter.convert()\n",
    "\n",
    "tflite_model_uint8_file = tflite_models_dir/\"mobilenet_model_quant_uint8.tflite\"\n",
    "tflite_model_uint8_file.write_bytes(tflite_uint8_model)\n",
    "```"
   ]
  },
  {
   "cell_type": "code",
   "execution_count": null,
   "metadata": {},
   "outputs": [],
   "source": []
  }
 ],
 "metadata": {
  "kernelspec": {
   "display_name": "Python 3",
   "language": "python",
   "name": "python3"
  },
  "language_info": {
   "codemirror_mode": {
    "name": "ipython",
    "version": 3
   },
   "file_extension": ".py",
   "mimetype": "text/x-python",
   "name": "python",
   "nbconvert_exporter": "python",
   "pygments_lexer": "ipython3",
   "version": "3.8.3"
  }
 },
 "nbformat": 4,
 "nbformat_minor": 4
}
